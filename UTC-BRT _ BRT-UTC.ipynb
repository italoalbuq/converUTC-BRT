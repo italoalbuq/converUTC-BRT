{
 "cells": [
  {
   "cell_type": "code",
   "execution_count": 1,
   "id": "1d21a6ec",
   "metadata": {},
   "outputs": [],
   "source": [
    "from datetime import datetime, timezone"
   ]
  },
  {
   "cell_type": "markdown",
   "id": "4cc74db4",
   "metadata": {},
   "source": [
    "# BRT para UTC (unix time)"
   ]
  },
  {
   "cell_type": "code",
   "execution_count": 2,
   "id": "87cc778f",
   "metadata": {},
   "outputs": [
    {
     "name": "stdout",
     "output_type": "stream",
     "text": [
      "Inicio - Local: 2022-11-25 00:00:00\n",
      "Inicio - UTC: 1669334400\n",
      "Final - Local: 2023-10-05 00:00:00\n",
      "Final - UTC: 1696464000\n"
     ]
    }
   ],
   "source": [
    "start = datetime(2022, 11, 25, 0, 0, 0)\n",
    "end = datetime(2023, 10, 5, 0, 0, 0)\n",
    "\n",
    "# Converter para UTC\n",
    "start_utc = start.replace(tzinfo=timezone.utc).timestamp()\n",
    "end_utc = end.replace(tzinfo=timezone.utc).timestamp()\n",
    "\n",
    "print(\"Inicio - Local:\", start)\n",
    "print(\"Inicio - UTC:\", int(start_utc))\n",
    "\n",
    "print(\"Final - Local:\", end)\n",
    "print(\"Final - UTC:\", int(end_utc))"
   ]
  },
  {
   "cell_type": "markdown",
   "id": "83a24897",
   "metadata": {},
   "source": [
    "# UTC (unix time) para BRT"
   ]
  },
  {
   "cell_type": "code",
   "execution_count": 3,
   "id": "ddbe81af",
   "metadata": {},
   "outputs": [
    {
     "name": "stdout",
     "output_type": "stream",
     "text": [
      "Timestamp: 1669492800\n",
      "Hora local: 2022-11-26 14:00:00-03:00\n"
     ]
    }
   ],
   "source": [
    "from datetime import datetime, timezone\n",
    "\n",
    "timestamp = 1669492800 \n",
    "\n",
    "# Converter para objeto datetime na hora local\n",
    "data_hora_local = datetime.fromtimestamp(timestamp)\n",
    "\n",
    "# Converter para hora local\n",
    "data_hora_local = data_hora_local.replace(tzinfo=timezone.utc).astimezone(tz=None)\n",
    "\n",
    "print(\"Timestamp:\", timestamp)\n",
    "print(\"Hora local:\", data_hora_local)\n"
   ]
  }
 ],
 "metadata": {
  "kernelspec": {
   "display_name": "Python 3 (ipykernel)",
   "language": "python",
   "name": "python3"
  },
  "language_info": {
   "codemirror_mode": {
    "name": "ipython",
    "version": 3
   },
   "file_extension": ".py",
   "mimetype": "text/x-python",
   "name": "python",
   "nbconvert_exporter": "python",
   "pygments_lexer": "ipython3",
   "version": "3.9.13"
  }
 },
 "nbformat": 4,
 "nbformat_minor": 5
}
